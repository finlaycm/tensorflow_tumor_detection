{
  "nbformat": 4,
  "nbformat_minor": 0,
  "metadata": {
    "colab": {
      "name": "part3_the_model_final.ipynb",
      "provenance": [],
      "collapsed_sections": [],
      "toc_visible": true,
      "machine_shape": "hm",
      "include_colab_link": true
    },
    "kernelspec": {
      "name": "python3",
      "display_name": "Python 3"
    },
    "accelerator": "GPU"
  },
  "cells": [
    {
      "cell_type": "markdown",
      "metadata": {
        "id": "view-in-github",
        "colab_type": "text"
      },
      "source": [
        "<a href=\"https://colab.research.google.com/github/finlaycm/tensorflow_tumor_detection/blob/master/part3_the_model_final.ipynb\" target=\"_parent\"><img src=\"https://colab.research.google.com/assets/colab-badge.svg\" alt=\"Open In Colab\"/></a>"
      ]
    },
    {
      "cell_type": "code",
      "metadata": {
        "id": "yFLJYLbJr1tL",
        "colab_type": "code",
        "colab": {
          "base_uri": "https://localhost:8080/",
          "height": 122
        },
        "outputId": "e5fac081-dd1b-49c0-f0a8-73feb776305f"
      },
      "source": [
        "from google.colab import drive\n",
        "import os\n",
        "colab_root_dir = '/content'\n",
        "drive_dir='/content/drive'\n",
        "project_root_dir = os.path.join(drive_dir,'My Drive','deeplearning','cancer_classification')\n",
        "drive.mount(drive_dir)\n",
        "data_dir = os.path.join(project_root_dir,'data')\n",
        "\n"
      ],
      "execution_count": null,
      "outputs": [
        {
          "output_type": "stream",
          "text": [
            "Go to this URL in a browser: https://accounts.google.com/o/oauth2/auth?client_id=947318989803-6bn6qk8qdgf4n4g3pfee6491hc0brc4i.apps.googleusercontent.com&redirect_uri=urn%3aietf%3awg%3aoauth%3a2.0%3aoob&response_type=code&scope=email%20https%3a%2f%2fwww.googleapis.com%2fauth%2fdocs.test%20https%3a%2f%2fwww.googleapis.com%2fauth%2fdrive%20https%3a%2f%2fwww.googleapis.com%2fauth%2fdrive.photos.readonly%20https%3a%2f%2fwww.googleapis.com%2fauth%2fpeopleapi.readonly\n",
            "\n",
            "Enter your authorization code:\n",
            "··········\n",
            "Mounted at /content/drive\n"
          ],
          "name": "stdout"
        }
      ]
    },
    {
      "cell_type": "markdown",
      "metadata": {
        "colab_type": "text",
        "id": "JX53hsQZ3WUc"
      },
      "source": [
        "## About\n",
        "\n",
        "This starter code shows how to read slides and tumor masks from the [CAMELYON16](https://camelyon17.grand-challenge.org/Data/) dataset. It will install [OpenSlide](https://openslide.org/) in Colab (the only non-Python dependency). Note that OpenSlide also includes a [DeepZoom viewer](https://github.com/openslide/openslide-python/tree/master/examples/deepzoom), shown in class. To use that, you'll need to install and run OpenSlide locally on your computer.\n",
        "\n",
        "### Training data\n",
        "\n",
        "The original slides and annotations are in an unusual format. I converted a bunch of them for you, so you can read them with OpenSlide as shown in this notebook. This [folder](https://drive.google.com/drive/folders/1rwWL8zU9v0M27BtQKI52bF6bVLW82RL5?usp=sharing) contains all the slides and tumor masks I converted (and these should be *plenty* for your project). If you'd like more beyond this, you'll need to use ASAP as described on the competition website to convert it into an appropriate format. \n",
        "\n",
        "Note that even with the starter code, it will take some effort to understand how to work with this data (the various zoom levels, and the coordinate system). Happy to help in OH if you're stuck.\n",
        "\n",
        "### Reminder\n",
        "\n",
        "The goal for your project is to build a thoughtful, end-to-end prototype - not to match the accuracy from the [paper](https://arxiv.org/abs/1703.02442), or use all the available data. \n"
      ]
    },
    {
      "cell_type": "code",
      "metadata": {
        "colab_type": "code",
        "id": "6ZGT2mGE9XUY",
        "colab": {}
      },
      "source": [
        "#Install the OpenSlide C library and Python bindings\n",
        "# !apt-get install openslide-tools\n",
        "# !pip install openslide-python"
      ],
      "execution_count": null,
      "outputs": []
    },
    {
      "cell_type": "code",
      "metadata": {
        "id": "APl9Y_yA_jil",
        "colab_type": "code",
        "colab": {
          "base_uri": "https://localhost:8080/",
          "height": 51
        },
        "outputId": "cc4639fd-35e9-484f-f665-2180d8378012"
      },
      "source": [
        "%tensorflow_version 2.x\n",
        "import tensorflow as tf\n",
        "print(tf.__version__)"
      ],
      "execution_count": null,
      "outputs": [
        {
          "output_type": "stream",
          "text": [
            "TensorFlow 2.x selected.\n",
            "2.0.0\n"
          ],
          "name": "stdout"
        }
      ]
    },
    {
      "cell_type": "code",
      "metadata": {
        "colab_type": "code",
        "id": "Ws_fS_f13WUd",
        "colab": {
          "base_uri": "https://localhost:8080/",
          "height": 34
        },
        "outputId": "b76af1e2-e882-4ca7-a6d6-1b9cb648004d"
      },
      "source": [
        "%matplotlib inline\n",
        "import matplotlib.pyplot as plt\n",
        "import numpy as np\n",
        "import os\n",
        "from PIL import Image\n",
        "from skimage.color import rgb2gray\n",
        "import cv2 as cv\n",
        "import json\n",
        "from google.colab import drive\n",
        "import pathlib\n",
        "import shutil\n",
        "import random\n",
        "\n",
        "from sklearn.model_selection import train_test_split\n",
        "\n",
        "from tensorflow.keras.layers import Dense, Flatten, Input, MaxPooling2D, Conv2D, Dropout\n",
        "from tensorflow.keras.models import Model, Sequential\n",
        "from tensorflow.keras.preprocessing.image import ImageDataGenerator\n",
        "from tensorflow.keras.models import load_model\n",
        "from tensorflow.keras import backend as K\n",
        "\n",
        "print(tf.__version__)\n"
      ],
      "execution_count": null,
      "outputs": [
        {
          "output_type": "stream",
          "text": [
            "2.0.0\n"
          ],
          "name": "stdout"
        }
      ]
    },
    {
      "cell_type": "code",
      "metadata": {
        "id": "tKvQ4-0MCKK_",
        "colab_type": "code",
        "colab": {}
      },
      "source": [
        "shutil.copy(os.path.join(project_root_dir,'patches.zip'),colab_root_dir)\n",
        "!unzip -q 'patches' -d \"patches\""
      ],
      "execution_count": null,
      "outputs": []
    },
    {
      "cell_type": "code",
      "metadata": {
        "id": "fU50ch8bUIn3",
        "colab_type": "code",
        "colab": {}
      },
      "source": [
        ""
      ],
      "execution_count": null,
      "outputs": []
    },
    {
      "cell_type": "code",
      "metadata": {
        "id": "S-tpifPLPYJV",
        "colab_type": "code",
        "colab": {
          "base_uri": "https://localhost:8080/",
          "height": 119
        },
        "outputId": "6336a254-66ac-4dfc-b54a-488ce624c829"
      },
      "source": [
        "train_dir = os.path.join('patches', 'train')\n",
        "val_dir = os.path.join('patches', 'val')\n",
        "test_dir = os.path.join('patches', 'test')\n",
        "print('Total train negative images:', len(os.listdir(train_dir+'/negative')))\n",
        "print('Total train positive images:', len(os.listdir(train_dir+'/positive')))\n",
        "print('Total validation negative images:', len(os.listdir(val_dir+'/negative')))\n",
        "print('Total validation positive images:', len(os.listdir(val_dir+'/positive')))\n",
        "print('Total test negative images:', len(os.listdir(test_dir+'/negative')))\n",
        "print('Total test positive images:', len(os.listdir(test_dir+'/positive')))\n"
      ],
      "execution_count": null,
      "outputs": [
        {
          "output_type": "stream",
          "text": [
            "Total train negative images: 26868\n",
            "Total train positive images: 36058\n",
            "Total validation negative images: 6634\n",
            "Total validation positive images: 9098\n",
            "Total test negative images: 6328\n",
            "Total test positive images: 8864\n"
          ],
          "name": "stdout"
        }
      ]
    },
    {
      "cell_type": "markdown",
      "metadata": {
        "id": "VHnBpT04PXNr",
        "colab_type": "text"
      },
      "source": [
        ""
      ]
    },
    {
      "cell_type": "code",
      "metadata": {
        "colab_type": "code",
        "id": "PhTQ5mnF3WUm",
        "colab": {
          "base_uri": "https://localhost:8080/",
          "height": 663
        },
        "outputId": "8c30eb79-5a52-4ef1-fc72-c6013bb4484a"
      },
      "source": [
        "def my_leaky_relu(x):\n",
        "    return tf.nn.leaky_relu(x, alpha=0.01)\n",
        "model = Sequential()\n",
        "model.add(Conv2D(64, (3, 3), activation='relu', input_shape=(128, 128, 3)))\n",
        "model.add(MaxPooling2D((2, 2)))\n",
        "model.add(Conv2D(128, (3, 3), activation='relu'))\n",
        "model.add(MaxPooling2D((2, 2)))\n",
        "model.add(Conv2D(256, (3, 3), activation='relu'))\n",
        "model.add(MaxPooling2D((2, 2)))\n",
        "model.add(Conv2D(128, (3, 3), activation='relu'))\n",
        "model.add(MaxPooling2D((2, 2)))\n",
        "model.add(Conv2D(128, (3, 3), activation='relu'))\n",
        "model.add(MaxPooling2D((2, 2)))\n",
        "model.add(Flatten())\n",
        "model.add(Dropout(0.5))\n",
        "model.add(Dense(512, activation='relu'))\n",
        "model.add(Dropout(0.5))\n",
        "model.add(Dense(1, activation='sigmoid'))\n",
        "model.summary()"
      ],
      "execution_count": null,
      "outputs": [
        {
          "output_type": "stream",
          "text": [
            "Model: \"sequential\"\n",
            "_________________________________________________________________\n",
            "Layer (type)                 Output Shape              Param #   \n",
            "=================================================================\n",
            "conv2d (Conv2D)              (None, 126, 126, 64)      1792      \n",
            "_________________________________________________________________\n",
            "max_pooling2d (MaxPooling2D) (None, 63, 63, 64)        0         \n",
            "_________________________________________________________________\n",
            "conv2d_1 (Conv2D)            (None, 61, 61, 128)       73856     \n",
            "_________________________________________________________________\n",
            "max_pooling2d_1 (MaxPooling2 (None, 30, 30, 128)       0         \n",
            "_________________________________________________________________\n",
            "conv2d_2 (Conv2D)            (None, 28, 28, 256)       295168    \n",
            "_________________________________________________________________\n",
            "max_pooling2d_2 (MaxPooling2 (None, 14, 14, 256)       0         \n",
            "_________________________________________________________________\n",
            "conv2d_3 (Conv2D)            (None, 12, 12, 128)       295040    \n",
            "_________________________________________________________________\n",
            "max_pooling2d_3 (MaxPooling2 (None, 6, 6, 128)         0         \n",
            "_________________________________________________________________\n",
            "conv2d_4 (Conv2D)            (None, 4, 4, 128)         147584    \n",
            "_________________________________________________________________\n",
            "max_pooling2d_4 (MaxPooling2 (None, 2, 2, 128)         0         \n",
            "_________________________________________________________________\n",
            "flatten (Flatten)            (None, 512)               0         \n",
            "_________________________________________________________________\n",
            "dropout (Dropout)            (None, 512)               0         \n",
            "_________________________________________________________________\n",
            "dense (Dense)                (None, 512)               262656    \n",
            "_________________________________________________________________\n",
            "dropout_1 (Dropout)          (None, 512)               0         \n",
            "_________________________________________________________________\n",
            "dense_1 (Dense)              (None, 1)                 513       \n",
            "=================================================================\n",
            "Total params: 1,076,609\n",
            "Trainable params: 1,076,609\n",
            "Non-trainable params: 0\n",
            "_________________________________________________________________\n"
          ],
          "name": "stdout"
        }
      ]
    },
    {
      "cell_type": "code",
      "metadata": {
        "colab_type": "code",
        "id": "0DgO1xD-3WUp",
        "colab": {}
      },
      "source": [
        "model.compile(loss='binary_crossentropy',\n",
        "optimizer='adam',\n",
        "metrics=['acc'])"
      ],
      "execution_count": null,
      "outputs": []
    },
    {
      "cell_type": "code",
      "metadata": {
        "id": "aQfy16rKd7KT",
        "colab_type": "code",
        "colab": {}
      },
      "source": [
        "os.remove('patches/train/positive/tumor_091_5_10273.jpg')\n",
        "os.remove('patches/train/positive/tumor_110_19_34406.jpg')\n",
        "\n"
      ],
      "execution_count": null,
      "outputs": []
    },
    {
      "cell_type": "code",
      "metadata": {
        "colab_type": "code",
        "id": "KL8wATtg3WUu",
        "colab": {
          "base_uri": "https://localhost:8080/",
          "height": 68
        },
        "outputId": "101de5c3-1d44-4f84-898a-64d899ba19a1"
      },
      "source": [
        "train_datagen = ImageDataGenerator(rescale=1./255)\n",
        "val_datagen = ImageDataGenerator(rescale=1./255)\n",
        "test_datagen = ImageDataGenerator(rescale=1./255)\n",
        "train_generator = train_datagen.flow_from_directory(\n",
        "                  train_dir,\n",
        "                  target_size=(128, 128),\n",
        "                  batch_size=32,\n",
        "                  shuffle=True,\n",
        "                  class_mode='binary')\n",
        "val_generator = val_datagen.flow_from_directory(\n",
        "                  val_dir,\n",
        "                  target_size=(128, 128),\n",
        "                  batch_size=32,\n",
        "                  class_mode='binary')\n",
        "test_generator = test_datagen.flow_from_directory(\n",
        "                  test_dir,\n",
        "                  target_size=(128, 128),\n",
        "                  batch_size=1,\n",
        "                  class_mode='binary')"
      ],
      "execution_count": null,
      "outputs": [
        {
          "output_type": "stream",
          "text": [
            "Found 62924 images belonging to 2 classes.\n",
            "Found 15732 images belonging to 2 classes.\n",
            "Found 15192 images belonging to 2 classes.\n"
          ],
          "name": "stdout"
        }
      ]
    },
    {
      "cell_type": "code",
      "metadata": {
        "colab_type": "code",
        "id": "2Dp1ykBtEBsu",
        "colab": {
          "base_uri": "https://localhost:8080/",
          "height": 51
        },
        "outputId": "1843b959-8390-478d-c153-80e0e6b6c17e"
      },
      "source": [
        "for data_batch, labels_batch in train_generator:\n",
        "  print('data batch shape:', data_batch.shape)\n",
        "  print('labels batch shape:', labels_batch.shape)\n",
        "  break"
      ],
      "execution_count": null,
      "outputs": [
        {
          "output_type": "stream",
          "text": [
            "data batch shape: (32, 128, 128, 3)\n",
            "labels batch shape: (32,)\n"
          ],
          "name": "stdout"
        }
      ]
    },
    {
      "cell_type": "code",
      "metadata": {
        "colab_type": "code",
        "id": "_LZnJ4C_3WUy",
        "colab": {
          "base_uri": "https://localhost:8080/",
          "height": 1000
        },
        "outputId": "87c0ae3a-3707-4b63-81e4-00bad2b52b37"
      },
      "source": [
        "history = model.fit_generator(\n",
        "          train_generator,\n",
        "          steps_per_epoch=1500,\n",
        "          epochs=50,\n",
        "          validation_data=val_generator,\n",
        "          validation_steps=50\n",
        "          )"
      ],
      "execution_count": null,
      "outputs": [
        {
          "output_type": "stream",
          "text": [
            "Epoch 1/50\n",
            "1500/1500 [==============================] - 96s 64ms/step - loss: 0.2982 - acc: 0.8820 - val_loss: 0.2852 - val_acc: 0.8825\n",
            "Epoch 2/50\n",
            "1500/1500 [==============================] - 93s 62ms/step - loss: 0.2363 - acc: 0.9057 - val_loss: 0.2371 - val_acc: 0.8988\n",
            "Epoch 3/50\n",
            "1500/1500 [==============================] - 93s 62ms/step - loss: 0.2157 - acc: 0.9156 - val_loss: 0.2027 - val_acc: 0.9187\n",
            "Epoch 4/50\n",
            "1500/1500 [==============================] - 93s 62ms/step - loss: 0.1913 - acc: 0.9259 - val_loss: 0.1895 - val_acc: 0.9250\n",
            "Epoch 5/50\n",
            "1500/1500 [==============================] - 93s 62ms/step - loss: 0.1799 - acc: 0.9321 - val_loss: 0.1953 - val_acc: 0.9225\n",
            "Epoch 6/50\n",
            "1500/1500 [==============================] - 93s 62ms/step - loss: 0.1742 - acc: 0.9342 - val_loss: 0.1938 - val_acc: 0.9250\n",
            "Epoch 7/50\n",
            "1500/1500 [==============================] - 93s 62ms/step - loss: 0.1668 - acc: 0.9385 - val_loss: 0.1823 - val_acc: 0.9275\n",
            "Epoch 8/50\n",
            "1500/1500 [==============================] - 95s 63ms/step - loss: 0.1665 - acc: 0.9362 - val_loss: 0.2038 - val_acc: 0.9162\n",
            "Epoch 9/50\n",
            "1500/1500 [==============================] - 94s 62ms/step - loss: 0.1594 - acc: 0.9386 - val_loss: 0.2036 - val_acc: 0.9212\n",
            "Epoch 10/50\n",
            "1500/1500 [==============================] - 94s 63ms/step - loss: 0.1577 - acc: 0.9403 - val_loss: 0.1790 - val_acc: 0.9375\n",
            "Epoch 11/50\n",
            "1500/1500 [==============================] - 95s 63ms/step - loss: 0.1470 - acc: 0.9449 - val_loss: 0.1771 - val_acc: 0.9350\n",
            "Epoch 12/50\n",
            "1500/1500 [==============================] - 94s 63ms/step - loss: 0.1515 - acc: 0.9435 - val_loss: 0.1624 - val_acc: 0.9381\n",
            "Epoch 13/50\n",
            "1500/1500 [==============================] - 94s 63ms/step - loss: 0.1467 - acc: 0.9449 - val_loss: 0.1639 - val_acc: 0.9369\n",
            "Epoch 14/50\n",
            "1500/1500 [==============================] - 94s 63ms/step - loss: 0.1425 - acc: 0.9474 - val_loss: 0.1654 - val_acc: 0.9388\n",
            "Epoch 15/50\n",
            "1500/1500 [==============================] - 94s 63ms/step - loss: 0.1455 - acc: 0.9471 - val_loss: 0.1650 - val_acc: 0.9350\n",
            "Epoch 16/50\n",
            "1500/1500 [==============================] - 94s 62ms/step - loss: 0.1370 - acc: 0.9491 - val_loss: 0.1694 - val_acc: 0.9369\n",
            "Epoch 17/50\n",
            "1500/1500 [==============================] - 94s 62ms/step - loss: 0.1373 - acc: 0.9481 - val_loss: 0.1692 - val_acc: 0.9406\n",
            "Epoch 18/50\n",
            "1500/1500 [==============================] - 95s 63ms/step - loss: 0.1313 - acc: 0.9508 - val_loss: 0.1627 - val_acc: 0.9413\n",
            "Epoch 19/50\n",
            "1500/1500 [==============================] - 94s 63ms/step - loss: 0.1318 - acc: 0.9507 - val_loss: 0.1670 - val_acc: 0.9450\n",
            "Epoch 20/50\n",
            "1500/1500 [==============================] - 94s 63ms/step - loss: 0.1240 - acc: 0.9538 - val_loss: 0.1860 - val_acc: 0.9400\n",
            "Epoch 21/50\n",
            "1500/1500 [==============================] - 95s 63ms/step - loss: 0.1290 - acc: 0.9521 - val_loss: 0.1704 - val_acc: 0.9400\n",
            "Epoch 22/50\n",
            "1500/1500 [==============================] - 94s 63ms/step - loss: 0.1240 - acc: 0.9529 - val_loss: 0.1826 - val_acc: 0.9400\n",
            "Epoch 23/50\n",
            "1500/1500 [==============================] - 94s 62ms/step - loss: 0.1189 - acc: 0.9559 - val_loss: 0.1909 - val_acc: 0.9369\n",
            "Epoch 24/50\n",
            "1500/1500 [==============================] - 95s 63ms/step - loss: 0.1188 - acc: 0.9563 - val_loss: 0.1645 - val_acc: 0.9406\n",
            "Epoch 25/50\n",
            "1500/1500 [==============================] - 94s 63ms/step - loss: 0.1218 - acc: 0.9548 - val_loss: 0.1707 - val_acc: 0.9394\n",
            "Epoch 26/50\n",
            "1500/1500 [==============================] - 94s 63ms/step - loss: 0.1125 - acc: 0.9584 - val_loss: 0.1704 - val_acc: 0.9375\n",
            "Epoch 27/50\n",
            "1500/1500 [==============================] - 95s 63ms/step - loss: 0.1118 - acc: 0.9592 - val_loss: 0.1760 - val_acc: 0.9375\n",
            "Epoch 28/50\n",
            "1500/1500 [==============================] - 94s 63ms/step - loss: 0.1104 - acc: 0.9589 - val_loss: 0.1910 - val_acc: 0.9337\n",
            "Epoch 29/50\n",
            "1500/1500 [==============================] - 94s 63ms/step - loss: 0.1070 - acc: 0.9604 - val_loss: 0.1743 - val_acc: 0.9438\n",
            "Epoch 30/50\n",
            "1500/1500 [==============================] - 94s 63ms/step - loss: 0.1060 - acc: 0.9604 - val_loss: 0.1720 - val_acc: 0.9431\n",
            "Epoch 31/50\n",
            "1500/1500 [==============================] - 94s 63ms/step - loss: 0.1011 - acc: 0.9615 - val_loss: 0.1886 - val_acc: 0.9362\n",
            "Epoch 32/50\n",
            "1500/1500 [==============================] - 94s 62ms/step - loss: 0.1038 - acc: 0.9619 - val_loss: 0.1789 - val_acc: 0.9369\n",
            "Epoch 33/50\n",
            "1500/1500 [==============================] - 94s 63ms/step - loss: 0.0999 - acc: 0.9635 - val_loss: 0.1899 - val_acc: 0.9381\n",
            "Epoch 34/50\n",
            "1500/1500 [==============================] - 94s 63ms/step - loss: 0.0997 - acc: 0.9632 - val_loss: 0.1702 - val_acc: 0.9388\n",
            "Epoch 35/50\n",
            "1500/1500 [==============================] - 93s 62ms/step - loss: 0.0921 - acc: 0.9660 - val_loss: 0.1718 - val_acc: 0.9413\n",
            "Epoch 36/50\n",
            "1500/1500 [==============================] - 92s 61ms/step - loss: 0.0956 - acc: 0.9656 - val_loss: 0.1802 - val_acc: 0.9388\n",
            "Epoch 37/50\n",
            "1500/1500 [==============================] - 93s 62ms/step - loss: 0.0931 - acc: 0.9668 - val_loss: 0.1974 - val_acc: 0.9444\n",
            "Epoch 38/50\n",
            "1500/1500 [==============================] - 92s 62ms/step - loss: 0.0883 - acc: 0.9676 - val_loss: 0.1922 - val_acc: 0.9413\n",
            "Epoch 39/50\n",
            "1500/1500 [==============================] - 92s 61ms/step - loss: 0.0899 - acc: 0.9669 - val_loss: 0.1871 - val_acc: 0.9344\n",
            "Epoch 40/50\n",
            "1500/1500 [==============================] - 93s 62ms/step - loss: 0.0909 - acc: 0.9679 - val_loss: 0.1934 - val_acc: 0.9388\n",
            "Epoch 41/50\n",
            "1500/1500 [==============================] - 93s 62ms/step - loss: 0.0851 - acc: 0.9696 - val_loss: 0.2143 - val_acc: 0.9413\n",
            "Epoch 42/50\n",
            "1500/1500 [==============================] - 92s 61ms/step - loss: 0.0886 - acc: 0.9669 - val_loss: 0.2136 - val_acc: 0.9375\n",
            "Epoch 43/50\n",
            "1500/1500 [==============================] - 92s 61ms/step - loss: 0.0828 - acc: 0.9705 - val_loss: 0.2156 - val_acc: 0.9369\n",
            "Epoch 44/50\n",
            "1500/1500 [==============================] - 93s 62ms/step - loss: 0.0809 - acc: 0.9710 - val_loss: 0.1834 - val_acc: 0.9369\n",
            "Epoch 45/50\n",
            "1500/1500 [==============================] - 91s 61ms/step - loss: 0.0792 - acc: 0.9714 - val_loss: 0.2142 - val_acc: 0.9394\n",
            "Epoch 46/50\n",
            "1500/1500 [==============================] - 91s 61ms/step - loss: 0.0880 - acc: 0.9691 - val_loss: 0.2003 - val_acc: 0.9356\n",
            "Epoch 47/50\n",
            "1500/1500 [==============================] - 92s 61ms/step - loss: 0.0814 - acc: 0.9709 - val_loss: 0.1811 - val_acc: 0.9425\n",
            "Epoch 48/50\n",
            "1500/1500 [==============================] - 92s 61ms/step - loss: 0.0782 - acc: 0.9719 - val_loss: 0.2521 - val_acc: 0.9287\n",
            "Epoch 49/50\n",
            "1500/1500 [==============================] - 91s 61ms/step - loss: 0.0803 - acc: 0.9717 - val_loss: 0.2176 - val_acc: 0.9369\n",
            "Epoch 50/50\n",
            "1500/1500 [==============================] - 92s 61ms/step - loss: 0.0753 - acc: 0.9731 - val_loss: 0.2117 - val_acc: 0.9438\n"
          ],
          "name": "stdout"
        }
      ]
    },
    {
      "cell_type": "code",
      "metadata": {
        "colab_type": "code",
        "id": "JHbF_FfX3WU3",
        "colab": {}
      },
      "source": [
        "model.save(os.path.join(project_root_dir,'cancer6.h5'))"
      ],
      "execution_count": null,
      "outputs": []
    },
    {
      "cell_type": "code",
      "metadata": {
        "id": "CqkUm8fw3EUy",
        "colab_type": "code",
        "colab": {
          "base_uri": "https://localhost:8080/",
          "height": 545
        },
        "outputId": "db5dd595-6f35-45e4-83d5-ead27c2087c7"
      },
      "source": [
        "acc = history.history['acc']\n",
        "val_acc = history.history['val_acc']\n",
        "loss = history.history['loss']\n",
        "val_loss = history.history['val_loss']\n",
        "epochs = range(1, len(acc) + 1)\n",
        "plt.plot(epochs, acc, label='Training acc')\n",
        "plt.plot(epochs, val_acc, label='Validation acc')\n",
        "plt.title('Training and validation accuracy')\n",
        "plt.legend()\n",
        "plt.figure()\n",
        "plt.plot(epochs, loss, label='Training loss')\n",
        "plt.plot(epochs, val_loss, label='Validation loss')\n",
        "plt.title('Training and validation loss')\n",
        "plt.legend()\n",
        "plt.show()"
      ],
      "execution_count": null,
      "outputs": [
        {
          "output_type": "display_data",
          "data": {
            "image/png": "[encoded data removed]",
            "text/plain": [
              "<Figure size 432x288 with 1 Axes>"
            ]
          },
          "metadata": {
            "tags": []
          }
        },
        {
          "output_type": "display_data",
          "data": {
            "image/png": "[encoded data removed]",
            "text/plain": [
              "<Figure size 432x288 with 1 Axes>"
            ]
          },
          "metadata": {
            "tags": []
          }
        }
      ]
    }
  ]
}