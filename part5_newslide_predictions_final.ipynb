{
  "nbformat": 4,
  "nbformat_minor": 0,
  "metadata": {
    "colab": {
      "name": "part5_newslide_predictions_final.ipynb",
      "provenance": [],
      "collapsed_sections": [],
      "toc_visible": true,
      "machine_shape": "hm",
      "include_colab_link": true
    },
    "kernelspec": {
      "name": "python3",
      "display_name": "Python 3"
    },
    "accelerator": "GPU"
  },
  "cells": [
    {
      "cell_type": "markdown",
      "metadata": {
        "id": "view-in-github",
        "colab_type": "text"
      },
      "source": [
        "<a href=\"https://colab.research.google.com/github/finlaycm/tensorflow_tumor_detection/blob/master/part5_newslide_predictions_final.ipynb\" target=\"_parent\"><img src=\"https://colab.research.google.com/assets/colab-badge.svg\" alt=\"Open In Colab\"/></a>"
      ]
    },
    {
      "cell_type": "code",
      "metadata": {
        "id": "Os8Olll07ld7",
        "colab_type": "code",
        "colab": {
          "base_uri": "https://localhost:8080/",
          "height": 122
        },
        "outputId": "200bd1f3-4cd5-47cc-960f-60b7f9781775"
      },
      "source": [
        "from google.colab import drive\n",
        "import os\n",
        "colab_root_dir = '/content'\n",
        "drive_dir='/content/drive'\n",
        "project_root_dir = os.path.join(drive_dir,'My Drive','deeplearning','cancer_classification')\n",
        "eval_dir = os.path.join(project_root_dir,'eval')\n",
        "drive.mount(drive_dir)\n",
        "test_slides = ['tumor_094','tumor_096','tumor_019','tumor_016','tumor_031','tumor_084']\n"
      ],
      "execution_count": null,
      "outputs": [
        {
          "output_type": "stream",
          "text": [
            "Go to this URL in a browser: https://accounts.google.com/o/oauth2/auth?client_id=947318989803-6bn6qk8qdgf4n4g3pfee6491hc0brc4i.apps.googleusercontent.com&redirect_uri=urn%3aietf%3awg%3aoauth%3a2.0%3aoob&response_type=code&scope=email%20https%3a%2f%2fwww.googleapis.com%2fauth%2fdocs.test%20https%3a%2f%2fwww.googleapis.com%2fauth%2fdrive%20https%3a%2f%2fwww.googleapis.com%2fauth%2fdrive.photos.readonly%20https%3a%2f%2fwww.googleapis.com%2fauth%2fpeopleapi.readonly\n",
            "\n",
            "Enter your authorization code:\n",
            "··········\n",
            "Mounted at /content/drive\n"
          ],
          "name": "stdout"
        }
      ]
    },
    {
      "cell_type": "markdown",
      "metadata": {
        "colab_type": "text",
        "id": "JX53hsQZ3WUc"
      },
      "source": [
        "## About\n",
        "\n",
        "This starter code shows how to read slides and tumor masks from the [CAMELYON16](https://camelyon17.grand-challenge.org/Data/) dataset. It will install [OpenSlide](https://openslide.org/) in Colab (the only non-Python dependency). Note that OpenSlide also includes a [DeepZoom viewer](https://github.com/openslide/openslide-python/tree/master/examples/deepzoom), shown in class. To use that, you'll need to install and run OpenSlide locally on your computer.\n",
        "\n",
        "### Training data\n",
        "\n",
        "The original slides and annotations are in an unusual format. I converted a bunch of them for you, so you can read them with OpenSlide as shown in this notebook. This [folder](https://drive.google.com/drive/folders/1rwWL8zU9v0M27BtQKI52bF6bVLW82RL5?usp=sharing) contains all the slides and tumor masks I converted (and these should be *plenty* for your project). If you'd like more beyond this, you'll need to use ASAP as described on the competition website to convert it into an appropriate format. \n",
        "\n",
        "Note that even with the starter code, it will take some effort to understand how to work with this data (the various zoom levels, and the coordinate system). Happy to help in OH if you're stuck.\n",
        "\n",
        "### Reminder\n",
        "\n",
        "The goal for your project is to build a thoughtful, end-to-end prototype - not to match the accuracy from the [paper](https://arxiv.org/abs/1703.02442), or use all the available data. \n"
      ]
    },
    {
      "cell_type": "code",
      "metadata": {
        "colab_type": "code",
        "id": "6ZGT2mGE9XUY",
        "colab": {
          "base_uri": "https://localhost:8080/",
          "height": 734
        },
        "outputId": "a294aa38-4bd3-4217-e59e-f05b139db338"
      },
      "source": [
        "#Install the OpenSlide C library and Python bindings\n",
        "!apt-get install openslide-tools\n",
        "!pip install openslide-python"
      ],
      "execution_count": null,
      "outputs": [
        {
          "output_type": "stream",
          "text": [
            "Reading package lists... Done\n",
            "Building dependency tree       \n",
            "Reading state information... Done\n",
            "The following package was automatically installed and is no longer required:\n",
            "  libnvidia-common-430\n",
            "Use 'apt autoremove' to remove it.\n",
            "The following additional packages will be installed:\n",
            "  libopenslide0\n",
            "Suggested packages:\n",
            "  libtiff-tools\n",
            "The following NEW packages will be installed:\n",
            "  libopenslide0 openslide-tools\n",
            "0 upgraded, 2 newly installed, 0 to remove and 7 not upgraded.\n",
            "Need to get 92.5 kB of archives.\n",
            "After this operation, 268 kB of additional disk space will be used.\n",
            "Get:1 http://archive.ubuntu.com/ubuntu bionic/universe amd64 libopenslide0 amd64 3.4.1+dfsg-2 [79.8 kB]\n",
            "Get:2 http://archive.ubuntu.com/ubuntu bionic/universe amd64 openslide-tools amd64 3.4.1+dfsg-2 [12.7 kB]\n",
            "Fetched 92.5 kB in 1s (172 kB/s)\n",
            "Selecting previously unselected package libopenslide0.\n",
            "(Reading database ... 145653 files and directories currently installed.)\n",
            "Preparing to unpack .../libopenslide0_3.4.1+dfsg-2_amd64.deb ...\n",
            "Unpacking libopenslide0 (3.4.1+dfsg-2) ...\n",
            "Selecting previously unselected package openslide-tools.\n",
            "Preparing to unpack .../openslide-tools_3.4.1+dfsg-2_amd64.deb ...\n",
            "Unpacking openslide-tools (3.4.1+dfsg-2) ...\n",
            "Setting up libopenslide0 (3.4.1+dfsg-2) ...\n",
            "Setting up openslide-tools (3.4.1+dfsg-2) ...\n",
            "Processing triggers for libc-bin (2.27-3ubuntu1) ...\n",
            "Processing triggers for man-db (2.8.3-2ubuntu0.1) ...\n",
            "Collecting openslide-python\n",
            "\u001b[?25l  Downloading https://files.pythonhosted.org/packages/26/5a/5b0adeabce81f018a9e4ffe9a419536064bc95c1b12194aff9b7e48f91f7/openslide-python-1.1.1.tar.gz (312kB)\n",
            "\u001b[K     |████████████████████████████████| 317kB 2.9MB/s \n",
            "\u001b[?25hRequirement already satisfied: Pillow in /usr/local/lib/python3.6/dist-packages (from openslide-python) (4.3.0)\n",
            "Requirement already satisfied: olefile in /usr/local/lib/python3.6/dist-packages (from Pillow->openslide-python) (0.46)\n",
            "Building wheels for collected packages: openslide-python\n",
            "  Building wheel for openslide-python (setup.py) ... \u001b[?25l\u001b[?25hdone\n",
            "  Created wheel for openslide-python: filename=openslide_python-1.1.1-cp36-cp36m-linux_x86_64.whl size=27375 sha256=e41fe5e225e1591ad6676a94c5d9e87b51b6c9b217d7f322043d53d2305f9792\n",
            "  Stored in directory: /root/.cache/pip/wheels/56/44/7e/16c9fc72cfbf1bffe48676b6835843d21abcc56566e958e7d6\n",
            "Successfully built openslide-python\n",
            "Installing collected packages: openslide-python\n",
            "Successfully installed openslide-python-1.1.1\n"
          ],
          "name": "stdout"
        }
      ]
    },
    {
      "cell_type": "code",
      "metadata": {
        "id": "APl9Y_yA_jil",
        "colab_type": "code",
        "colab": {
          "base_uri": "https://localhost:8080/",
          "height": 51
        },
        "outputId": "34c0dd74-0836-44e0-c153-669053526cbd"
      },
      "source": [
        "%tensorflow_version 2.x\n",
        "import tensorflow as tf\n",
        "print(tf.__version__)"
      ],
      "execution_count": null,
      "outputs": [
        {
          "output_type": "stream",
          "text": [
            "TensorFlow 2.x selected.\n",
            "2.0.0\n"
          ],
          "name": "stdout"
        }
      ]
    },
    {
      "cell_type": "code",
      "metadata": {
        "colab_type": "code",
        "id": "Ws_fS_f13WUd",
        "colab": {
          "base_uri": "https://localhost:8080/",
          "height": 34
        },
        "outputId": "27ccdcda-ea67-49bc-d6d8-61c0c9022467"
      },
      "source": [
        "%matplotlib inline\n",
        "import matplotlib.pyplot as plt\n",
        "import matplotlib.image as mpimg\n",
        "import numpy as np\n",
        "from openslide import open_slide, __library_version__ as openslide_version\n",
        "import os\n",
        "from PIL import Image\n",
        "from skimage.color import rgb2gray\n",
        "import cv2 as cv\n",
        "import json\n",
        "from google.colab import drive\n",
        "import pathlib\n",
        "import shutil\n",
        "import random\n",
        "import time\n",
        "import pandas as pd\n",
        "\n",
        "from sklearn.model_selection import train_test_split\n",
        "\n",
        "from tensorflow.keras.layers import Dense, Flatten, Input, MaxPooling2D, Conv2D\n",
        "from tensorflow.keras.models import Model, Sequential\n",
        "from tensorflow.keras.preprocessing.image import ImageDataGenerator\n",
        "from tensorflow.keras.models import load_model\n",
        "from tensorflow.keras import backend as K\n",
        "\n",
        "print(tf.__version__)\n"
      ],
      "execution_count": null,
      "outputs": [
        {
          "output_type": "stream",
          "text": [
            "2.0.0\n"
          ],
          "name": "stdout"
        }
      ]
    },
    {
      "cell_type": "code",
      "metadata": {
        "id": "kfAwiLsiVW_h",
        "colab_type": "code",
        "colab": {}
      },
      "source": [
        "test_slides = ['tumor_094','tumor_096','tumor_019','tumor_016','tumor_031','tumor_084']\n",
        "slide_dir=os.path.join(project_root_dir,'myslides')\n",
        "slide_files = [os.path.join(slide_dir,s) for s in os.listdir(slide_dir) if pathlib.Path(s).stem in test_slides ]\n",
        "mask_dir=os.path.join(project_root_dir,'mymasks')\n",
        "mask_files = [os.path.join(mask_dir,m) for m in os.listdir(mask_dir) if pathlib.Path(m).stem.replace('_mask','') in test_slides ]\n",
        "#load model\n",
        "model = load_model(os.path.join(project_root_dir,'cancer6.h5'))\n"
      ],
      "execution_count": null,
      "outputs": []
    },
    {
      "cell_type": "code",
      "metadata": {
        "id": "oP5g0sVk_jkW",
        "colab_type": "code",
        "colab": {}
      },
      "source": [
        "def read_slide(slide_path, level, x = 0, y = 0, width=None, height=None, as_float=False, show=False):\n",
        "    slide = open_slide(slide_path)\n",
        "    if not width: width=slide.level_dimensions[level][0]\n",
        "    if not height: height=slide.level_dimensions[level][1]\n",
        "    im = slide.read_region((x,y), level, (width, height))\n",
        "    im = im.convert('RGB') # drop the alpha channel\n",
        "    if as_float:\n",
        "        im = np.asarray(im, dtype=np.float32)\n",
        "    else:\n",
        "        im = np.asarray(im)\n",
        "    assert im.shape == (height, width, 3)\n",
        "    if '_mask.tif' in str(slide_path):\n",
        "      im = im[:,:,0]\n",
        "    if show:\n",
        "      plt.imshow(im)\n",
        "      plt.show()\n",
        "    return im\n",
        "def image_gen(img_paths, img_size=(128, 128)):\n",
        "    for img_path in img_paths:\n",
        "        img = mpimg.imread(img_path) / 255.\n",
        "        img = cv.resize(img, img_size)\n",
        "        img = np.expand_dims(img, axis=0) \n",
        "        img_name = pathlib.Path(img_path).stem\n",
        "        i = int(img_name.split('_')[-1])\n",
        "        x,y,w,h = patch_locators_in[i]\n",
        "        level = 0\n",
        "        truth = 1 if read_slide(mask_path,level, x,y,w,h).sum() > 0 else 0\n",
        "        yield img_name,img,truth, (x,y,w,h)\n",
        "\n",
        "def predict(slide_path):\n",
        "  global patch_locators_in, mask_path\n",
        "  slide_name = pathlib.Path(slide_path).stem\n",
        "  print('Predictions for slide {}'.format(slide_name))\n",
        "  mask_path = [m for m in mask_files if slide_name in m][0]\n",
        "  patches_folder_path = os.path.join(eval_dir,slide_name,'patches_'+slide_name+'.zip')\n",
        "  patches_folder_name = 'patches_'+slide_name\n",
        "  shutil.copy(patches_folder_path,colab_root_dir)\n",
        "  !unzip -q -o $patches_folder_name -d $patches_folder_name\n",
        "  patches_locator_name = patches_folder_name+'_locators.npy'\n",
        "  patches_locators_path = os.path.join(eval_dir,slide_name,patches_locator_name)\n",
        "  shutil.copy(patches_locators_path,colab_root_dir)\n",
        "  cols = ['patch_name','x','y','width','height','truth','prediction']\n",
        "  rows = []\n",
        "  img_paths = [os.path.join(colab_root_dir,patches_folder_name,f) for f in os.listdir(patches_folder_name)]\n",
        "  patch_locators_in = np.load(patches_locator_name,allow_pickle = True)\n",
        "  eval_generator = image_gen(img_paths)\n",
        "  predictions_name = 'pred_'+pathlib.Path(slide_name).stem\n",
        "  predictions_path = os.path.join(eval_dir,predictions_name)\n",
        "  start_time = time.time()\n",
        "  now = time.strftime(\"%H:%M\", time.localtime(start_time))\n",
        "  print(\"Start Time {} \".format(now)) \n",
        "  for patchname , img , truth, c in eval_generator:\n",
        "    predictions = model.predict(img).item()\n",
        "    rows.append({'patch_name': patchname,'x':c[0],'y':c[1],'width':c[2],'height':c[3], 'truth':truth,'prediction':predictions})\n",
        "  predictions_df = pd.DataFrame(rows, columns = cols)\n",
        "  predictions_df.to_pickle('pred_'+slide_name+'.pkl')\n",
        "  shutil.copy('pred_'+slide_name+'.pkl',os.path.join(eval_dir,slide_name,'pred_'+slide_name+'.pkl'))\n",
        "  end_time = time.time()\n",
        "  now = time.strftime(\"%H:%M\", time.localtime(end_time))\n",
        "  print(\"End Time {} \".format(now)) \n",
        "  print('....'*10)"
      ],
      "execution_count": null,
      "outputs": []
    },
    {
      "cell_type": "code",
      "metadata": {
        "id": "CRpA4bjj1M5O",
        "colab_type": "code",
        "colab": {
          "base_uri": "https://localhost:8080/",
          "height": 34
        },
        "outputId": "54063218-0b55-41e0-fc75-bd5994da8b0a"
      },
      "source": [
        "slide_files[4:5]"
      ],
      "execution_count": null,
      "outputs": [
        {
          "output_type": "execute_result",
          "data": {
            "text/plain": [
              "['/content/drive/My Drive/deeplearning/cancer_classification/myslides/tumor_084.tif']"
            ]
          },
          "metadata": {
            "tags": []
          },
          "execution_count": 9
        }
      ]
    },
    {
      "cell_type": "code",
      "metadata": {
        "id": "FZGOJ3Rbb_Av",
        "colab_type": "code",
        "colab": {
          "base_uri": "https://localhost:8080/",
          "height": 85
        },
        "outputId": "d5d3b854-b8cd-4386-980b-255aa12c243c"
      },
      "source": [
        "for slide_path in slide_files[4:5]:\n",
        "  predict(slide_path)"
      ],
      "execution_count": null,
      "outputs": [
        {
          "output_type": "stream",
          "text": [
            "Predictions for slide tumor_084\n",
            "Start Time 10:52 \n",
            "End Time 11:16 \n",
            "........................................\n"
          ],
          "name": "stdout"
        }
      ]
    }
  ]
}