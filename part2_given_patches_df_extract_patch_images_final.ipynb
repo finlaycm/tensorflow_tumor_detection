{
  "nbformat": 4,
  "nbformat_minor": 0,
  "metadata": {
    "colab": {
      "name": "part2 given_patches_df_extract_patch_images_final.ipynb",
      "provenance": [],
      "collapsed_sections": [],
      "toc_visible": true,
      "machine_shape": "hm",
      "include_colab_link": true
    },
    "kernelspec": {
      "name": "python3",
      "display_name": "Python 3"
    },
    "accelerator": "GPU"
  },
  "cells": [
    {
      "cell_type": "markdown",
      "metadata": {
        "id": "view-in-github",
        "colab_type": "text"
      },
      "source": [
        "<a href=\"https://colab.research.google.com/github/finlaycm/tensorflow_tumor_detection/blob/master/part2_given_patches_df_extract_patch_images_final.ipynb\" target=\"_parent\"><img src=\"https://colab.research.google.com/assets/colab-badge.svg\" alt=\"Open In Colab\"/></a>"
      ]
    },
    {
      "cell_type": "code",
      "metadata": {
        "id": "a9k_kD3iwlz4",
        "colab_type": "code",
        "colab": {
          "base_uri": "https://localhost:8080/",
          "height": 54
        },
        "outputId": "426eefa0-3419-4c7c-b3ed-8f17ad6a9fb8"
      },
      "source": [
        "from google.colab import drive\n",
        "import os\n",
        "import pathlib\n",
        "\n",
        "colab_root_dir = '/content'\n",
        "drive_dir='/content/drive'\n",
        "project_root_dir = os.path.join(drive_dir,'My Drive','deeplearning','cancer_classification')\n",
        "\n",
        "\n",
        "slide_dir=os.path.join(project_root_dir,'myslides')\n",
        "slide_files = [os.path.join(slide_dir,s) for s in os.listdir(slide_dir)]\n",
        "mask_dir=os.path.join(project_root_dir,'mymasks')\n",
        "mask_files = [os.path.join(mask_dir,m) for m in os.listdir(mask_dir)]\n",
        "xml_dir=os.path.join(project_root_dir,'myannotations')\n",
        "xml_files = [os.path.join(xml_dir,x) for x in os.listdir(xml_dir)]\n",
        "\n",
        "patch_dir = pathlib.Path(os.path.join(colab_root_dir,'patches'))\n",
        "drive.mount(drive_dir)\n",
        "os.makedirs(patch_dir,exist_ok=True)\n"
      ],
      "execution_count": null,
      "outputs": [
        {
          "output_type": "stream",
          "text": [
            "Drive already mounted at /content/drive; to attempt to forcibly remount, call drive.mount(\"/content/drive\", force_remount=True).\n"
          ],
          "name": "stdout"
        }
      ]
    },
    {
      "cell_type": "markdown",
      "metadata": {
        "colab_type": "text",
        "id": "JX53hsQZ3WUc"
      },
      "source": [
        "## About\n",
        "\n",
        "This starter code shows how to read slides and tumor masks from the [CAMELYON16](https://camelyon17.grand-challenge.org/Data/) dataset. It will install [OpenSlide](https://openslide.org/) in Colab (the only non-Python dependency). Note that OpenSlide also includes a [DeepZoom viewer](https://github.com/openslide/openslide-python/tree/master/examples/deepzoom), shown in class. To use that, you'll need to install and run OpenSlide locally on your computer.\n",
        "\n",
        "### Training data\n",
        "\n",
        "The original slides and annotations are in an unusual format. I converted a bunch of them for you, so you can read them with OpenSlide as shown in this notebook. This [folder](https://drive.google.com/drive/folders/1rwWL8zU9v0M27BtQKI52bF6bVLW82RL5?usp=sharing) contains all the slides and tumor masks I converted (and these should be *plenty* for your project). If you'd like more beyond this, you'll need to use ASAP as described on the competition website to convert it into an appropriate format. \n",
        "\n",
        "Note that even with the starter code, it will take some effort to understand how to work with this data (the various zoom levels, and the coordinate system). Happy to help in OH if you're stuck.\n",
        "\n",
        "### Reminder\n",
        "\n",
        "The goal for your project is to build a thoughtful, end-to-end prototype - not to match the accuracy from the [paper](https://arxiv.org/abs/1703.02442), or use all the available data. \n"
      ]
    },
    {
      "cell_type": "code",
      "metadata": {
        "id": "298I0DS7weql",
        "colab_type": "code",
        "colab": {
          "base_uri": "https://localhost:8080/",
          "height": 853
        },
        "outputId": "df6e4b29-437f-4c4d-9b5d-2dcbd70a4894"
      },
      "source": [
        "# Install the OpenSlide C library and Python bindings\n",
        "!apt-get install openslide-tools\n",
        "!pip install openslide-python"
      ],
      "execution_count": null,
      "outputs": [
        {
          "output_type": "stream",
          "text": [
            "Reading package lists... Done\n",
            "Building dependency tree       \n",
            "Reading state information... Done\n",
            "The following packages were automatically installed and are no longer required:\n",
            "  cuda-cufft-10-1 cuda-cufft-dev-10-1 cuda-curand-10-1 cuda-curand-dev-10-1\n",
            "  cuda-cusolver-10-1 cuda-cusolver-dev-10-1 cuda-cusparse-10-1\n",
            "  cuda-cusparse-dev-10-1 cuda-license-10-2 cuda-npp-10-1 cuda-npp-dev-10-1\n",
            "  cuda-nsight-10-1 cuda-nsight-compute-10-1 cuda-nsight-systems-10-1\n",
            "  cuda-nvgraph-10-1 cuda-nvgraph-dev-10-1 cuda-nvjpeg-10-1\n",
            "  cuda-nvjpeg-dev-10-1 cuda-nvrtc-10-1 cuda-nvrtc-dev-10-1 cuda-nvvp-10-1\n",
            "  libcublas10 libnvidia-common-430 nsight-compute-2019.5.0\n",
            "  nsight-systems-2019.5.2\n",
            "Use 'apt autoremove' to remove them.\n",
            "The following additional packages will be installed:\n",
            "  libopenslide0\n",
            "Suggested packages:\n",
            "  libtiff-tools\n",
            "The following NEW packages will be installed:\n",
            "  libopenslide0 openslide-tools\n",
            "0 upgraded, 2 newly installed, 0 to remove and 5 not upgraded.\n",
            "Need to get 92.5 kB of archives.\n",
            "After this operation, 268 kB of additional disk space will be used.\n",
            "Get:1 http://archive.ubuntu.com/ubuntu bionic/universe amd64 libopenslide0 amd64 3.4.1+dfsg-2 [79.8 kB]\n",
            "Get:2 http://archive.ubuntu.com/ubuntu bionic/universe amd64 openslide-tools amd64 3.4.1+dfsg-2 [12.7 kB]\n",
            "Fetched 92.5 kB in 2s (52.8 kB/s)\n",
            "Selecting previously unselected package libopenslide0.\n",
            "(Reading database ... 135718 files and directories currently installed.)\n",
            "Preparing to unpack .../libopenslide0_3.4.1+dfsg-2_amd64.deb ...\n",
            "Unpacking libopenslide0 (3.4.1+dfsg-2) ...\n",
            "Selecting previously unselected package openslide-tools.\n",
            "Preparing to unpack .../openslide-tools_3.4.1+dfsg-2_amd64.deb ...\n",
            "Unpacking openslide-tools (3.4.1+dfsg-2) ...\n",
            "Setting up libopenslide0 (3.4.1+dfsg-2) ...\n",
            "Setting up openslide-tools (3.4.1+dfsg-2) ...\n",
            "Processing triggers for libc-bin (2.27-3ubuntu1) ...\n",
            "Processing triggers for man-db (2.8.3-2ubuntu0.1) ...\n",
            "Collecting openslide-python\n",
            "\u001b[?25l  Downloading https://files.pythonhosted.org/packages/26/5a/5b0adeabce81f018a9e4ffe9a419536064bc95c1b12194aff9b7e48f91f7/openslide-python-1.1.1.tar.gz (312kB)\n",
            "\u001b[K     |████████████████████████████████| 317kB 2.7MB/s \n",
            "\u001b[?25hRequirement already satisfied: Pillow in /usr/local/lib/python3.6/dist-packages (from openslide-python) (4.3.0)\n",
            "Requirement already satisfied: olefile in /usr/local/lib/python3.6/dist-packages (from Pillow->openslide-python) (0.46)\n",
            "Building wheels for collected packages: openslide-python\n",
            "  Building wheel for openslide-python (setup.py) ... \u001b[?25l\u001b[?25hdone\n",
            "  Created wheel for openslide-python: filename=openslide_python-1.1.1-cp36-cp36m-linux_x86_64.whl size=27377 sha256=cec7b5139d48901f78fa5b8a4e6752fad9c50353b3d5b8a630429593ab52c616\n",
            "  Stored in directory: /root/.cache/pip/wheels/56/44/7e/16c9fc72cfbf1bffe48676b6835843d21abcc56566e958e7d6\n",
            "Successfully built openslide-python\n",
            "Installing collected packages: openslide-python\n",
            "Successfully installed openslide-python-1.1.1\n"
          ],
          "name": "stdout"
        }
      ]
    },
    {
      "cell_type": "code",
      "metadata": {
        "colab_type": "code",
        "id": "Ws_fS_f13WUd",
        "colab": {}
      },
      "source": [
        "%matplotlib inline\n",
        "import matplotlib.pyplot as plt\n",
        "import numpy as np\n",
        "from openslide import open_slide, __library_version__ as openslide_version\n",
        "import os\n",
        "from PIL import Image\n",
        "from skimage.color import rgb2gray\n",
        "import cv2 as cv\n",
        "import json\n",
        "import pathlib\n",
        "import random\n",
        "import pandas as pd\n",
        "import time\n",
        "import shutil\n",
        "from time import gmtime, strftime\n"
      ],
      "execution_count": null,
      "outputs": []
    },
    {
      "cell_type": "code",
      "metadata": {
        "id": "IkATNvnyjoR8",
        "colab_type": "code",
        "colab": {}
      },
      "source": [
        "_=[os.makedirs(os.path.join(patch_dir,s,l), exist_ok=True) for s in ['train','val','test'] for l in ['positive','negative']]\n",
        "patches_df = pd.read_pickle(os.path.join(project_root_dir,'patches_df.pkl'))\n"
      ],
      "execution_count": null,
      "outputs": []
    },
    {
      "cell_type": "code",
      "metadata": {
        "id": "zMkcrWo9Bnp-",
        "colab_type": "code",
        "colab": {
          "base_uri": "https://localhost:8080/",
          "height": 1000
        },
        "outputId": "5692e2b7-79d2-4210-863e-38e1f16ac5b3"
      },
      "source": [
        "level = 0\n",
        "c = 0\n",
        "total_patches = patches_df.shape[0]\n",
        "for s in slide_files:\n",
        "  slide_name = pathlib.Path(s).stem\n",
        "  print(slide_name)\n",
        "  print(strftime(\"%Y-%m-%d %H:%M:%S\", gmtime()))\n",
        "  ###read slide from \n",
        "  slide=open_slide(s)\n",
        "  print('Slide dimensions : {}'.format(slide.level_dimensions[level]))\n",
        "  patches_in_slide = patches_df[patches_df['slide_name']==slide_name].shape[0]\n",
        "  print('Processing slide: {} with total number of patches = {}'.format(slide_name, patches_in_slide))\n",
        "  for index, row in patches_df[patches_df['slide_name']==slide_name].iterrows():\n",
        "    x,y,w,h = row[5:9]\n",
        "    patch_path = os.path.join(patch_dir,row[11],row[10],row[4]+'.jpg')\n",
        "    im = slide.read_region((x,y), level, (w, h))\n",
        "    im = im.convert('RGB') # drop the alpha channel\n",
        "    im = np.asarray(im)\n",
        "    assert im.shape == (h, w, 3)  \n",
        "    Image.fromarray(im).save(patch_path)  \n",
        "  c += patches_in_slide\n",
        "  todo = total_patches - c\n",
        "  print('Total patches: {}\\nExtracted patches so far: {}\\nLeft to extract: {}'.format(total_patches,c,todo))\n",
        "  print(strftime(\"%Y-%m-%d %H:%M:%S\", gmtime()))\n",
        "  print('...'*30)\n"
      ],
      "execution_count": null,
      "outputs": [
        {
          "output_type": "stream",
          "text": [
            "tumor_031\n",
            "2019-12-08 04:24:18\n",
            "Slide dimensions : (97792, 221184)\n",
            "Processing slide: tumor_031 with total number of patches = 6545\n",
            "Total patches: 93850\n",
            "Extracted patches so far: 6545\n",
            "Left to extract: 87305\n",
            "2019-12-08 04:31:29\n",
            "..........................................................................................\n",
            "tumor_012\n",
            "2019-12-08 04:31:29\n",
            "Slide dimensions : (97792, 215552)\n",
            "Processing slide: tumor_012 with total number of patches = 40\n",
            "Total patches: 93850\n",
            "Extracted patches so far: 6585\n",
            "Left to extract: 87265\n",
            "2019-12-08 04:31:38\n",
            "..........................................................................................\n",
            "tumor_019\n",
            "2019-12-08 04:31:38\n",
            "Slide dimensions : (97792, 219648)\n",
            "Processing slide: tumor_019 with total number of patches = 4\n",
            "Total patches: 93850\n",
            "Extracted patches so far: 6589\n",
            "Left to extract: 87261\n",
            "2019-12-08 04:31:40\n",
            "..........................................................................................\n",
            "tumor_002\n",
            "2019-12-08 04:31:40\n",
            "Slide dimensions : (97792, 219648)\n",
            "Processing slide: tumor_002 with total number of patches = 45\n",
            "Total patches: 93850\n",
            "Extracted patches so far: 6634\n",
            "Left to extract: 87216\n",
            "2019-12-08 04:31:45\n",
            "..........................................................................................\n",
            "tumor_001\n",
            "2019-12-08 04:31:45\n",
            "Slide dimensions : (97792, 221184)\n",
            "Processing slide: tumor_001 with total number of patches = 120\n",
            "Total patches: 93850\n",
            "Extracted patches so far: 6754\n",
            "Left to extract: 87096\n",
            "2019-12-08 04:31:57\n",
            "..........................................................................................\n",
            "tumor_101\n",
            "2019-12-08 04:31:57\n",
            "Slide dimensions : (139264, 71680)\n",
            "Processing slide: tumor_101 with total number of patches = 5026\n",
            "Total patches: 93850\n",
            "Extracted patches so far: 11780\n",
            "Left to extract: 82070\n",
            "2019-12-08 04:37:50\n",
            "..........................................................................................\n",
            "tumor_110\n",
            "2019-12-08 04:37:50\n",
            "Slide dimensions : (94208, 71680)\n",
            "Processing slide: tumor_110 with total number of patches = 30316\n",
            "Total patches: 93850\n",
            "Extracted patches so far: 42096\n",
            "Left to extract: 51754\n",
            "2019-12-08 05:07:20\n",
            "..........................................................................................\n",
            "tumor_096\n",
            "2019-12-08 05:07:20\n",
            "Slide dimensions : (131072, 71680)\n",
            "Processing slide: tumor_096 with total number of patches = 1352\n",
            "Total patches: 93850\n",
            "Extracted patches so far: 43448\n",
            "Left to extract: 50402\n",
            "2019-12-08 05:09:30\n",
            "..........................................................................................\n",
            "tumor_059\n",
            "2019-12-08 05:09:30\n",
            "Slide dimensions : (97280, 221184)\n",
            "Processing slide: tumor_059 with total number of patches = 20\n",
            "Total patches: 93850\n",
            "Extracted patches so far: 43468\n",
            "Left to extract: 50382\n",
            "2019-12-08 05:09:36\n",
            "..........................................................................................\n",
            "tumor_075\n",
            "2019-12-08 05:09:36\n",
            "Slide dimensions : (90112, 78848)\n",
            "Processing slide: tumor_075 with total number of patches = 2579\n",
            "Total patches: 93850\n",
            "Extracted patches so far: 46047\n",
            "Left to extract: 47803\n",
            "2019-12-08 05:12:44\n",
            "..........................................................................................\n",
            "tumor_081\n",
            "2019-12-08 05:12:44\n",
            "Slide dimensions : (90112, 100352)\n",
            "Processing slide: tumor_081 with total number of patches = 24\n",
            "Total patches: 93850\n",
            "Extracted patches so far: 46071\n",
            "Left to extract: 47779\n",
            "2019-12-08 05:12:49\n",
            "..........................................................................................\n",
            "tumor_023\n",
            "2019-12-08 05:12:49\n",
            "Slide dimensions : (97792, 221184)\n",
            "Processing slide: tumor_023 with total number of patches = 109\n",
            "Total patches: 93850\n",
            "Extracted patches so far: 46180\n",
            "Left to extract: 47670\n",
            "2019-12-08 05:13:01\n",
            "..........................................................................................\n",
            "tumor_094\n",
            "2019-12-08 05:13:01\n",
            "Slide dimensions : (118784, 100352)\n",
            "Processing slide: tumor_094 with total number of patches = 1602\n",
            "Total patches: 93850\n",
            "Extracted patches so far: 47782\n",
            "Left to extract: 46068\n",
            "2019-12-08 05:15:09\n",
            "..........................................................................................\n",
            "tumor_084\n",
            "2019-12-08 05:15:09\n",
            "Slide dimensions : (65536, 86016)\n",
            "Processing slide: tumor_084 with total number of patches = 1258\n",
            "Total patches: 93850\n",
            "Extracted patches so far: 49040\n",
            "Left to extract: 44810\n",
            "2019-12-08 05:16:09\n",
            "..........................................................................................\n",
            "tumor_016\n",
            "2019-12-08 05:16:09\n",
            "Slide dimensions : (97792, 221184)\n",
            "Processing slide: tumor_016 with total number of patches = 4431\n",
            "Total patches: 93850\n",
            "Extracted patches so far: 53471\n",
            "Left to extract: 40379\n",
            "2019-12-08 05:21:24\n",
            "..........................................................................................\n",
            "tumor_005\n",
            "2019-12-08 05:21:24\n",
            "Slide dimensions : (97792, 219648)\n",
            "Processing slide: tumor_005 with total number of patches = 106\n",
            "Total patches: 93850\n",
            "Extracted patches so far: 53577\n",
            "Left to extract: 40273\n",
            "2019-12-08 05:21:36\n",
            "..........................................................................................\n"
          ],
          "name": "stdout"
        }
      ]
    },
    {
      "cell_type": "code",
      "metadata": {
        "id": "tt1sz95j4-CS",
        "colab_type": "code",
        "colab": {
          "base_uri": "https://localhost:8080/",
          "height": 34
        },
        "outputId": "80593580-e40f-4dd2-cae2-2ee848934b8b"
      },
      "source": [
        "day = strftime(\"%Y-%m-%d\", gmtime())\n",
        "data_dir = os.path.join(colab_root_dir,'data_{}'.format(day))\n",
        "shutil.make_archive(data_dir, 'zip', 'patches')\n",
        "shutil.copy(data_dir+'.zip',project_root_dir)"
      ],
      "execution_count": null,
      "outputs": [
        {
          "output_type": "execute_result",
          "data": {
            "text/plain": [
              "'/content/drive/My Drive/deeplearning/cancer_classification/data_2019-12-08.zip'"
            ]
          },
          "metadata": {
            "tags": []
          },
          "execution_count": 47
        }
      ]
    }
  ]
}